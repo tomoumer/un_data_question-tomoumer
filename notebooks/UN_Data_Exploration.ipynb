{
 "cells": [
  {
   "attachments": {},
   "cell_type": "markdown",
   "id": "94932cfc",
   "metadata": {},
   "source": [
    "## Data Question 1: An Exploration of UN data"
   ]
  },
  {
   "attachments": {},
   "cell_type": "markdown",
   "id": "e3812452",
   "metadata": {},
   "source": [
    "1. Download the Gross Domestic Product (GDP) per capita dataset from http://data.un.org/Data.aspx?d=WDI&f=Indicator_Code%3aNY.GDP.PCAP.PP.KD. Rename it to gdp_per_capita.csv and place it in the data folder of your project repository.\n",
    "\n",
    "2. Create a Jupyter Notebook in the notebooks folder and name it UN_Data_Exploration.\n",
    "\n",
    "3. In the first cell of your notebook, import the required packages with their customary aliases."
   ]
  },
  {
   "cell_type": "code",
   "execution_count": 1,
   "id": "dcb68178",
   "metadata": {},
   "outputs": [],
   "source": [
    "import pandas as pd\n",
    "import numpy as np\n",
    "import matplotlib.pyplot as plt\n",
    "import seaborn as sns"
   ]
  },
  {
   "attachments": {},
   "cell_type": "markdown",
   "id": "9002bd31",
   "metadata": {},
   "source": [
    "4. Using the pandas read_csv() function, read the GDP dataset into your notebook as a DataFrame called gdp_df. \n",
    "- Take a look at the first 10 rows.\n",
    "- Look at the last 5 rows. Do you see a problem?\n",
    "- Redo the read_csv() call to correct this issue - do not modify the original csv file.\n",
    "\n",
    "> looked at that with the .head(10) and .tail(5) functions, found out we have to remove the last 2 rows because they are footnotes\n",
    "\n",
    "5. Drop the 'Value Footnotes' column, and rename the remaining columns to 'Country', 'Year', and 'GDP_Per_Capita'.\n",
    "\n",
    "> Initially done with 2 separate functions and then I combined them.\n",
    "\n",
    "6. How many rows and columns does gdp_df have? What are the data types of its columns? If any of the columns are not the expected types, figure out why and fix it.\n",
    "\n",
    "> checked with gdp_df.info() and gdp_df.shape, 3 columns 6868 rows and columns are object, int and float, everything worked as expected"
   ]
  },
  {
   "cell_type": "code",
   "execution_count": 2,
   "id": "8588e50f",
   "metadata": {},
   "outputs": [],
   "source": [
    "gdp_df = (\n",
    "    pd.read_csv('../data/gdp_per_capita.csv', skipfooter=2, engine='python')\n",
    "    .drop(columns = 'Value Footnotes')\n",
    "    .rename(columns={\n",
    "        'Country or Area': 'Country',\n",
    "        'Value': 'GDP_Per_Capita'\n",
    "        })\n",
    ")"
   ]
  },
  {
   "attachments": {},
   "cell_type": "markdown",
   "id": "5c992c26",
   "metadata": {},
   "source": [
    "7. Which years are represented in this dataset? Take a look at the number of observations per year. What do you notice?\n",
    "\n",
    "> years 1990 - 2017; number of values increases with years, slightly dropping in the last two years"
   ]
  },
  {
   "cell_type": "code",
   "execution_count": 7,
   "id": "663c54d4",
   "metadata": {},
   "outputs": [
    {
     "data": {
      "text/plain": [
       "array([2019, 2018, 2017, 2016, 2015, 2014, 2013, 2012, 2011, 2010, 2009,\n",
       "       2008, 2007, 2006, 2005, 2004, 2003, 2002, 2001, 2000, 1999, 1998,\n",
       "       1997, 1996, 1995, 1994, 1993, 1992, 1991, 1990])"
      ]
     },
     "execution_count": 7,
     "metadata": {},
     "output_type": "execute_result"
    }
   ],
   "source": [
    "gdp_df['Year'].unique() # we can also run that through sorted - sorted(gdp_df['Year'].unique())"
   ]
  },
  {
   "cell_type": "code",
   "execution_count": 9,
   "id": "e46b3de6",
   "metadata": {},
   "outputs": [
    {
     "data": {
      "image/png": "[encoded data removed]",
      "text/plain": [
       "<Figure size 432x288 with 1 Axes>"
      ]
     },
     "metadata": {
      "needs_background": "light"
     },
     "output_type": "display_data"
    }
   ],
   "source": [
    "gdp_df['Year'].value_counts().sort_index().plot(kind='bar');"
   ]
  },
  {
   "attachments": {},
   "cell_type": "markdown",
   "id": "166d959b",
   "metadata": {},
   "source": [
    "8. How many countries are represented in this dataset? Which countries are least represented in the dataset? Why do you think these countries have so few observations?\n",
    "\n",
    ">There are 238 countries in the dataset, least represented Nauru, Cayman Islands, Sint Maarten, Turks and Caicos Islands, Djibouti. I'd imagine they were not countries yet in 1991, or maybe some other territorial contests over the years."
   ]
  },
  {
   "cell_type": "code",
   "execution_count": 10,
   "id": "4720ed6b",
   "metadata": {},
   "outputs": [
    {
     "data": {
      "text/plain": [
       "238"
      ]
     },
     "execution_count": 10,
     "metadata": {},
     "output_type": "execute_result"
    }
   ],
   "source": [
    "gdp_df['Country'].nunique()"
   ]
  },
  {
   "cell_type": "code",
   "execution_count": 16,
   "id": "6efdc09c",
   "metadata": {},
   "outputs": [
    {
     "data": {
      "text/plain": [
       "Nauru                        16\n",
       "Cayman Islands               13\n",
       "Sint Maarten (Dutch part)    10\n",
       "Turks and Caicos Islands      9\n",
       "Djibouti                      7\n",
       "Name: Country, dtype: int64"
      ]
     },
     "execution_count": 16,
     "metadata": {},
     "output_type": "execute_result"
    }
   ],
   "source": [
    "gdp_df['Country'].value_counts(sort=True).tail(5)"
   ]
  },
  {
   "cell_type": "markdown",
   "id": "caafb4cd",
   "metadata": {},
   "source": [
    "> interestingly, gdp_df[gdp_df['Country'] == 'Slovenia'] shows Slovenia as a country in 1990, which most definitely it wasn't until 1991"
   ]
  },
  {
   "cell_type": "markdown",
   "id": "ab327f4a",
   "metadata": {},
   "source": [
    "9. Create a new dataframe by subsetting gdp_df to just the year 2014. Call this new dataframe gdp_2014.\n",
    "\n",
    "10. Use .describe() to find the summary statistics for GDP per capita in 2014."
   ]
  },
  {
   "cell_type": "code",
   "execution_count": 17,
   "id": "738508bc",
   "metadata": {},
   "outputs": [
    {
     "data": {
      "text/html": [
       "<div>\n",
       "<style scoped>\n",
       "    .dataframe tbody tr th:only-of-type {\n",
       "        vertical-align: middle;\n",
       "    }\n",
       "\n",
       "    .dataframe tbody tr th {\n",
       "        vertical-align: top;\n",
       "    }\n",
       "\n",
       "    .dataframe thead th {\n",
       "        text-align: right;\n",
       "    }\n",
       "</style>\n",
       "<table border=\"1\" class=\"dataframe\">\n",
       "  <thead>\n",
       "    <tr style=\"text-align: right;\">\n",
       "      <th></th>\n",
       "      <th>Year</th>\n",
       "      <th>GDP_Per_Capita</th>\n",
       "    </tr>\n",
       "  </thead>\n",
       "  <tbody>\n",
       "    <tr>\n",
       "      <th>count</th>\n",
       "      <td>238.0</td>\n",
       "      <td>238.000000</td>\n",
       "    </tr>\n",
       "    <tr>\n",
       "      <th>mean</th>\n",
       "      <td>2014.0</td>\n",
       "      <td>19766.710348</td>\n",
       "    </tr>\n",
       "    <tr>\n",
       "      <th>std</th>\n",
       "      <td>0.0</td>\n",
       "      <td>20983.869623</td>\n",
       "    </tr>\n",
       "    <tr>\n",
       "      <th>min</th>\n",
       "      <td>2014.0</td>\n",
       "      <td>822.610458</td>\n",
       "    </tr>\n",
       "    <tr>\n",
       "      <th>25%</th>\n",
       "      <td>2014.0</td>\n",
       "      <td>4753.110934</td>\n",
       "    </tr>\n",
       "    <tr>\n",
       "      <th>50%</th>\n",
       "      <td>2014.0</td>\n",
       "      <td>12209.385755</td>\n",
       "    </tr>\n",
       "    <tr>\n",
       "      <th>75%</th>\n",
       "      <td>2014.0</td>\n",
       "      <td>26803.610474</td>\n",
       "    </tr>\n",
       "    <tr>\n",
       "      <th>max</th>\n",
       "      <td>2014.0</td>\n",
       "      <td>156514.133850</td>\n",
       "    </tr>\n",
       "  </tbody>\n",
       "</table>\n",
       "</div>"
      ],
      "text/plain": [
       "         Year  GDP_Per_Capita\n",
       "count   238.0      238.000000\n",
       "mean   2014.0    19766.710348\n",
       "std       0.0    20983.869623\n",
       "min    2014.0      822.610458\n",
       "25%    2014.0     4753.110934\n",
       "50%    2014.0    12209.385755\n",
       "75%    2014.0    26803.610474\n",
       "max    2014.0   156514.133850"
      ]
     },
     "execution_count": 17,
     "metadata": {},
     "output_type": "execute_result"
    }
   ],
   "source": [
    "gdp_2014 = gdp_df.loc[gdp_df['Year'] == 2014]\n",
    "gdp_2014.describe()"
   ]
  },
  {
   "attachments": {},
   "cell_type": "markdown",
   "id": "447cbb58",
   "metadata": {},
   "source": [
    "11. Create a histogram of GDP Per Capita numbers for 2014 (you may wish to adjust the number of bins for your histogram). How would you describe the shape of the distribution?\n",
    "\n",
    "> poisson, unimodal, right skewed, has some notable outliers (can be seen from above too)"
   ]
  },
  {
   "cell_type": "code",
   "execution_count": 100,
   "id": "5eb5fb0b",
   "metadata": {},
   "outputs": [
    {
     "data": {
      "image/png": "[encoded data removed]",
      "text/plain": [
       "<Figure size 432x288 with 1 Axes>"
      ]
     },
     "metadata": {
      "needs_background": "light"
     },
     "output_type": "display_data"
    }
   ],
   "source": [
    "#plt.hist(gdp_2014[\"GDP_Per_Capita\"], bins=10)\n",
    "#plt.show()\n",
    "\n",
    "#more concise\n",
    "gdp_2014['GDP_Per_Capita'].plot(kind='hist', bins=10);"
   ]
  },
  {
   "cell_type": "markdown",
   "id": "3c46e544",
   "metadata": {},
   "source": [
    "12. Find the top 5 counties and bottom 5 countries by GDP per capita in 2014.\n",
    "\n",
    "> Top 5: Macao SAR, China, Luxembourg, Quatar, Singapore, Bermuda.\n",
    "\n",
    "> Bottom 5: Niger, Dem. Rep. Congo, Malawi, Burundi, Central African Republic."
   ]
  },
  {
   "cell_type": "code",
   "execution_count": 18,
   "id": "56b6a4a4",
   "metadata": {},
   "outputs": [
    {
     "data": {
      "text/html": [
       "<div>\n",
       "<style scoped>\n",
       "    .dataframe tbody tr th:only-of-type {\n",
       "        vertical-align: middle;\n",
       "    }\n",
       "\n",
       "    .dataframe tbody tr th {\n",
       "        vertical-align: top;\n",
       "    }\n",
       "\n",
       "    .dataframe thead th {\n",
       "        text-align: right;\n",
       "    }\n",
       "</style>\n",
       "<table border=\"1\" class=\"dataframe\">\n",
       "  <thead>\n",
       "    <tr style=\"text-align: right;\">\n",
       "      <th></th>\n",
       "      <th>Country</th>\n",
       "      <th>Year</th>\n",
       "      <th>GDP_Per_Capita</th>\n",
       "    </tr>\n",
       "  </thead>\n",
       "  <tbody>\n",
       "    <tr>\n",
       "      <th>3721</th>\n",
       "      <td>Macao SAR, China</td>\n",
       "      <td>2014</td>\n",
       "      <td>156514.133850</td>\n",
       "    </tr>\n",
       "    <tr>\n",
       "      <th>3691</th>\n",
       "      <td>Luxembourg</td>\n",
       "      <td>2014</td>\n",
       "      <td>108760.916030</td>\n",
       "    </tr>\n",
       "    <tr>\n",
       "      <th>5138</th>\n",
       "      <td>Qatar</td>\n",
       "      <td>2014</td>\n",
       "      <td>95578.416973</td>\n",
       "    </tr>\n",
       "    <tr>\n",
       "      <th>5464</th>\n",
       "      <td>Singapore</td>\n",
       "      <td>2014</td>\n",
       "      <td>87808.663157</td>\n",
       "    </tr>\n",
       "    <tr>\n",
       "      <th>561</th>\n",
       "      <td>Bermuda</td>\n",
       "      <td>2014</td>\n",
       "      <td>77361.104881</td>\n",
       "    </tr>\n",
       "  </tbody>\n",
       "</table>\n",
       "</div>"
      ],
      "text/plain": [
       "               Country  Year  GDP_Per_Capita\n",
       "3721  Macao SAR, China  2014   156514.133850\n",
       "3691        Luxembourg  2014   108760.916030\n",
       "5138             Qatar  2014    95578.416973\n",
       "5464         Singapore  2014    87808.663157\n",
       "561            Bermuda  2014    77361.104881"
      ]
     },
     "execution_count": 18,
     "metadata": {},
     "output_type": "execute_result"
    }
   ],
   "source": [
    "#gdp_2014.sort_values('GDP_Per_Capita', ascending=False).head(5)\n",
    "\n",
    "#another option to above\n",
    "gdp_2014.nlargest(5, 'GDP_Per_Capita')"
   ]
  },
  {
   "cell_type": "code",
   "execution_count": 19,
   "id": "f91986e8",
   "metadata": {},
   "outputs": [
    {
     "data": {
      "text/html": [
       "<div>\n",
       "<style scoped>\n",
       "    .dataframe tbody tr th:only-of-type {\n",
       "        vertical-align: middle;\n",
       "    }\n",
       "\n",
       "    .dataframe tbody tr th {\n",
       "        vertical-align: top;\n",
       "    }\n",
       "\n",
       "    .dataframe thead th {\n",
       "        text-align: right;\n",
       "    }\n",
       "</style>\n",
       "<table border=\"1\" class=\"dataframe\">\n",
       "  <thead>\n",
       "    <tr style=\"text-align: right;\">\n",
       "      <th></th>\n",
       "      <th>Country</th>\n",
       "      <th>Year</th>\n",
       "      <th>GDP_Per_Capita</th>\n",
       "    </tr>\n",
       "  </thead>\n",
       "  <tbody>\n",
       "    <tr>\n",
       "      <th>1047</th>\n",
       "      <td>Central African Republic</td>\n",
       "      <td>2014</td>\n",
       "      <td>822.610458</td>\n",
       "    </tr>\n",
       "    <tr>\n",
       "      <th>827</th>\n",
       "      <td>Burundi</td>\n",
       "      <td>2014</td>\n",
       "      <td>886.235777</td>\n",
       "    </tr>\n",
       "    <tr>\n",
       "      <th>3781</th>\n",
       "      <td>Malawi</td>\n",
       "      <td>2014</td>\n",
       "      <td>1027.208496</td>\n",
       "    </tr>\n",
       "    <tr>\n",
       "      <th>1422</th>\n",
       "      <td>Dem. Rep. Congo</td>\n",
       "      <td>2014</td>\n",
       "      <td>1029.790785</td>\n",
       "    </tr>\n",
       "    <tr>\n",
       "      <th>4528</th>\n",
       "      <td>Niger</td>\n",
       "      <td>2014</td>\n",
       "      <td>1127.615541</td>\n",
       "    </tr>\n",
       "  </tbody>\n",
       "</table>\n",
       "</div>"
      ],
      "text/plain": [
       "                       Country  Year  GDP_Per_Capita\n",
       "1047  Central African Republic  2014      822.610458\n",
       "827                    Burundi  2014      886.235777\n",
       "3781                    Malawi  2014     1027.208496\n",
       "1422           Dem. Rep. Congo  2014     1029.790785\n",
       "4528                     Niger  2014     1127.615541"
      ]
     },
     "execution_count": 19,
     "metadata": {},
     "output_type": "execute_result"
    }
   ],
   "source": [
    "#gdp_2014.sort_values('GDP_Per_Capita', ascending=False).tail(5)\n",
    "\n",
    "#alternative to above\n",
    "gdp_2014.nsmallest(5, 'GDP_Per_Capita')"
   ]
  },
  {
   "cell_type": "markdown",
   "id": "4a391f69",
   "metadata": {},
   "source": [
    "13. Now, return to the full dataset, gdp_df. Pivot the data for 1990 and 2017 (using the pandas .pivot_table() method or another method) so that each row corresponds to a country, each column corresponds to a year, and the values in the table give the GDP_Per_Capita amount. Drop any rows that are missing values for either 1990 or 2017. Save the result to a dataframe named gdp_pivoted."
   ]
  },
  {
   "cell_type": "code",
   "execution_count": 20,
   "id": "69a6cc44",
   "metadata": {},
   "outputs": [],
   "source": [
    "#first select dataset for wanted years 1990, 2017 and then pivot on that, then drop any rows with NaN in\n",
    "# NOTE: the .loc can be omitted, but it's better for it to be there to be more explicit\n",
    "gdp_pivoted = (\n",
    "    gdp_df\n",
    "        .loc[gdp_df['Year'].isin([1990, 2017])]\n",
    "        .pivot_table(\n",
    "            values = 'GDP_Per_Capita',\n",
    "            index = 'Country',\n",
    "            columns = 'Year'\n",
    "        )\n",
    "        .dropna() #you can subset on just specific columns instead of all with the dropna\n",
    ")"
   ]
  },
  {
   "cell_type": "markdown",
   "id": "1b298d23",
   "metadata": {},
   "source": [
    "14. Create a new column in gdp_pivoted named Percent_Change. This column should contain the percent change in GDP_Per_Capita from 1990 to 2017. Hint: Percent change is calculated as 100*(New Value - Old Value) / Old Value.\n",
    "\n",
    "15. How many countries experienced a negative percent change in GDP per capita from 1990 to 2017?\n",
    "\n",
    "> Answer: 17 countries: gdp_pivoted[gdp_pivoted['Percent_Change'] < 0].info()  (or without the .info if we want to look at them all)"
   ]
  },
  {
   "cell_type": "code",
   "execution_count": 21,
   "id": "29084744",
   "metadata": {},
   "outputs": [],
   "source": [
    "#gdp_pivoted.columns to check columns type -> that's why it's 2017 and not '2017'\n",
    "gdp_pivoted['Percent_Change'] = 100 * (gdp_pivoted[2017] - gdp_pivoted[1990]) / gdp_pivoted[1990]"
   ]
  },
  {
   "cell_type": "code",
   "execution_count": 22,
   "id": "860e84a2",
   "metadata": {},
   "outputs": [
    {
     "data": {
      "text/html": [
       "<div>\n",
       "<style scoped>\n",
       "    .dataframe tbody tr th:only-of-type {\n",
       "        vertical-align: middle;\n",
       "    }\n",
       "\n",
       "    .dataframe tbody tr th {\n",
       "        vertical-align: top;\n",
       "    }\n",
       "\n",
       "    .dataframe thead th {\n",
       "        text-align: right;\n",
       "    }\n",
       "</style>\n",
       "<table border=\"1\" class=\"dataframe\">\n",
       "  <thead>\n",
       "    <tr style=\"text-align: right;\">\n",
       "      <th>Year</th>\n",
       "      <th>1990</th>\n",
       "      <th>2017</th>\n",
       "      <th>Percent_Change</th>\n",
       "    </tr>\n",
       "    <tr>\n",
       "      <th>Country</th>\n",
       "      <th></th>\n",
       "      <th></th>\n",
       "      <th></th>\n",
       "    </tr>\n",
       "  </thead>\n",
       "  <tbody>\n",
       "    <tr>\n",
       "      <th>Brunei</th>\n",
       "      <td>71230.862143</td>\n",
       "      <td>60995.681114</td>\n",
       "      <td>-14.369026</td>\n",
       "    </tr>\n",
       "    <tr>\n",
       "      <th>Burundi</th>\n",
       "      <td>1184.842440</td>\n",
       "      <td>773.571858</td>\n",
       "      <td>-34.710993</td>\n",
       "    </tr>\n",
       "    <tr>\n",
       "      <th>Central African Republic</th>\n",
       "      <td>1201.677234</td>\n",
       "      <td>912.802052</td>\n",
       "      <td>-24.039332</td>\n",
       "    </tr>\n",
       "    <tr>\n",
       "      <th>Comoros</th>\n",
       "      <td>3061.360665</td>\n",
       "      <td>3032.254682</td>\n",
       "      <td>-0.950753</td>\n",
       "    </tr>\n",
       "    <tr>\n",
       "      <th>Congo</th>\n",
       "      <td>5115.210903</td>\n",
       "      <td>4274.296414</td>\n",
       "      <td>-16.439488</td>\n",
       "    </tr>\n",
       "    <tr>\n",
       "      <th>Dem. Rep. Congo</th>\n",
       "      <td>1819.723315</td>\n",
       "      <td>1059.810775</td>\n",
       "      <td>-41.759785</td>\n",
       "    </tr>\n",
       "    <tr>\n",
       "      <th>Gabon</th>\n",
       "      <td>18179.265733</td>\n",
       "      <td>15006.764091</td>\n",
       "      <td>-17.451209</td>\n",
       "    </tr>\n",
       "    <tr>\n",
       "      <th>Guinea-Bissau</th>\n",
       "      <td>1994.669656</td>\n",
       "      <td>1925.237737</td>\n",
       "      <td>-3.480873</td>\n",
       "    </tr>\n",
       "    <tr>\n",
       "      <th>Haiti</th>\n",
       "      <td>3229.618638</td>\n",
       "      <td>2980.960856</td>\n",
       "      <td>-7.699292</td>\n",
       "    </tr>\n",
       "    <tr>\n",
       "      <th>Kyrgyz Republic</th>\n",
       "      <td>5158.317569</td>\n",
       "      <td>5046.691535</td>\n",
       "      <td>-2.164001</td>\n",
       "    </tr>\n",
       "    <tr>\n",
       "      <th>Madagascar</th>\n",
       "      <td>1853.051624</td>\n",
       "      <td>1584.422678</td>\n",
       "      <td>-14.496571</td>\n",
       "    </tr>\n",
       "    <tr>\n",
       "      <th>Tajikistan</th>\n",
       "      <td>3869.043636</td>\n",
       "      <td>3089.530208</td>\n",
       "      <td>-20.147445</td>\n",
       "    </tr>\n",
       "    <tr>\n",
       "      <th>The Bahamas</th>\n",
       "      <td>38099.848616</td>\n",
       "      <td>36297.307023</td>\n",
       "      <td>-4.731099</td>\n",
       "    </tr>\n",
       "    <tr>\n",
       "      <th>The Gambia</th>\n",
       "      <td>2265.238219</td>\n",
       "      <td>2072.652450</td>\n",
       "      <td>-8.501789</td>\n",
       "    </tr>\n",
       "    <tr>\n",
       "      <th>Ukraine</th>\n",
       "      <td>15751.722440</td>\n",
       "      <td>11871.123624</td>\n",
       "      <td>-24.636028</td>\n",
       "    </tr>\n",
       "    <tr>\n",
       "      <th>United Arab Emirates</th>\n",
       "      <td>111454.360446</td>\n",
       "      <td>67183.626557</td>\n",
       "      <td>-39.720953</td>\n",
       "    </tr>\n",
       "    <tr>\n",
       "      <th>Zimbabwe</th>\n",
       "      <td>3324.348171</td>\n",
       "      <td>3028.245976</td>\n",
       "      <td>-8.907075</td>\n",
       "    </tr>\n",
       "  </tbody>\n",
       "</table>\n",
       "</div>"
      ],
      "text/plain": [
       "Year                               1990          2017  Percent_Change\n",
       "Country                                                              \n",
       "Brunei                     71230.862143  60995.681114      -14.369026\n",
       "Burundi                     1184.842440    773.571858      -34.710993\n",
       "Central African Republic    1201.677234    912.802052      -24.039332\n",
       "Comoros                     3061.360665   3032.254682       -0.950753\n",
       "Congo                       5115.210903   4274.296414      -16.439488\n",
       "Dem. Rep. Congo             1819.723315   1059.810775      -41.759785\n",
       "Gabon                      18179.265733  15006.764091      -17.451209\n",
       "Guinea-Bissau               1994.669656   1925.237737       -3.480873\n",
       "Haiti                       3229.618638   2980.960856       -7.699292\n",
       "Kyrgyz Republic             5158.317569   5046.691535       -2.164001\n",
       "Madagascar                  1853.051624   1584.422678      -14.496571\n",
       "Tajikistan                  3869.043636   3089.530208      -20.147445\n",
       "The Bahamas                38099.848616  36297.307023       -4.731099\n",
       "The Gambia                  2265.238219   2072.652450       -8.501789\n",
       "Ukraine                    15751.722440  11871.123624      -24.636028\n",
       "United Arab Emirates      111454.360446  67183.626557      -39.720953\n",
       "Zimbabwe                    3324.348171   3028.245976       -8.907075"
      ]
     },
     "execution_count": 22,
     "metadata": {},
     "output_type": "execute_result"
    }
   ],
   "source": [
    "gdp_pivoted[gdp_pivoted['Percent_Change'] < 0]"
   ]
  },
  {
   "cell_type": "code",
   "execution_count": 24,
   "id": "4bb7b696",
   "metadata": {},
   "outputs": [
    {
     "data": {
      "text/plain": [
       "17"
      ]
     },
     "execution_count": 24,
     "metadata": {},
     "output_type": "execute_result"
    }
   ],
   "source": [
    "# alternatively, to sum all of the True/False serires, telling us how many True there are in a column!\n",
    "# we can also do an average .mean() and others\n",
    "(gdp_pivoted['Percent_Change'] < 0).sum()"
   ]
  },
  {
   "cell_type": "markdown",
   "id": "86c24c5b",
   "metadata": {},
   "source": [
    "16. Which country had the highest % change in GDP per capita? Create a line plot showing this country's GDP per capita for all years from 1990 to 2017. Create another showing the country with the second highest % change in GDP. How do the trends in these countries compare?\n",
    "Bonus: Put both line charts on the same plot.\n",
    "\n",
    "> a: Equatorial Guinea and this formula would be to get ONLY the max, I.E. the highest: gdp_pivoted[gdp_pivoted['Percent_Change'] == gdp_pivoted['Percent_Change'].max()]. Using the code below we see the top 5, and second highest is China\n",
    "\n",
    "> Equatorial Guinea is all over the place. It appears to have reached a peak in about 2007/2008 and is then steadily in decline. Still a tremendous change in 2017 compared to 1990. China on the other hand I know a little bit more about. They have consistently subscribed to the philosophy of the \"sleeping dragon\" and over the years slowly but surely building up their economy. Slower growth, but consistent with likely no stopping in the near future. "
   ]
  },
  {
   "cell_type": "code",
   "execution_count": 26,
   "id": "423049d7",
   "metadata": {},
   "outputs": [],
   "source": [
    "#gdp_pivoted.sort_values('Percent_Change', ascending=False).head(2)\n",
    "top_pc = gdp_pivoted.nlargest(2, 'Percent_Change').index[0]\n",
    "second_pc = gdp_pivoted.nlargest(2, 'Percent_Change').index[1]"
   ]
  },
  {
   "cell_type": "code",
   "execution_count": 108,
   "id": "39f8b7af",
   "metadata": {},
   "outputs": [],
   "source": [
    "#this below is the code for drawing the graph on 2 separate plots\n",
    "#gdp_df[gdp_df['Country'] == top_pc].plot(x = 'Year', y = 'GDP_Per_Capita', label = top_pc);\n",
    "#gdp_df[gdp_df['Country'] == second_pc].plot(x = 'Year', y = 'GDP_Per_Capita', label = second_pc);\n",
    "#plt.show()"
   ]
  },
  {
   "cell_type": "code",
   "execution_count": 27,
   "id": "4f4a5689",
   "metadata": {},
   "outputs": [
    {
     "data": {
      "image/png": "[encoded data removed]",
      "text/plain": [
       "<Figure size 432x288 with 1 Axes>"
      ]
     },
     "metadata": {
      "needs_background": "light"
     },
     "output_type": "display_data"
    }
   ],
   "source": [
    "ax = gdp_df[gdp_df['Country'] == top_pc].plot(x = 'Year', y = 'GDP_Per_Capita', label = top_pc)\n",
    "gdp_df[gdp_df['Country'] == second_pc].plot(x = 'Year', y = 'GDP_Per_Capita', label = second_pc, ax=ax);\n"
   ]
  },
  {
   "cell_type": "markdown",
   "id": "9ff490f9",
   "metadata": {},
   "source": [
    "17. Read in continents.csv contained in the data folder into a new dataframe called continents. We will be using this dataframe to add a new column to our dataset."
   ]
  },
  {
   "cell_type": "code",
   "execution_count": 28,
   "id": "c6626da8",
   "metadata": {},
   "outputs": [],
   "source": [
    "#note: I checked the data with .head() and .tail()\n",
    "continents = pd.read_csv('../data/continents.csv')"
   ]
  },
  {
   "cell_type": "markdown",
   "id": "d69fd354",
   "metadata": {},
   "source": [
    "18. Merge gdp_df and continents. Keep only the countries that appear in both data frames. Save the result back to gdp_df."
   ]
  },
  {
   "cell_type": "code",
   "execution_count": 29,
   "id": "d1fa7fcd",
   "metadata": {},
   "outputs": [],
   "source": [
    "#the inner command, which is used by default, is what makes sure that the country appears in both sets\n",
    "#also on Country can be omitted here since it appears in both\n",
    "gdp_df = pd.merge(left=gdp_df, right=continents, how='inner', on='Country')"
   ]
  },
  {
   "cell_type": "markdown",
   "id": "9d981273",
   "metadata": {},
   "source": [
    "19. Determine the number of countries per continent. Create a bar chart showing this."
   ]
  },
  {
   "cell_type": "code",
   "execution_count": 30,
   "id": "bff11ebe",
   "metadata": {},
   "outputs": [
    {
     "data": {
      "image/png": "[encoded data removed]",
      "text/plain": [
       "<Figure size 432x288 with 1 Axes>"
      ]
     },
     "metadata": {
      "needs_background": "light"
     },
     "output_type": "display_data"
    }
   ],
   "source": [
    "# since there's multiple countries for each year, drop all but one\n",
    "# and then count by grouping around Continent, using Country as summary\n",
    "# counting the number of countries (by continent)\n",
    "# make a bar chart\n",
    "(\n",
    "    gdp_df\n",
    "    .drop_duplicates(subset='Country') # can also use .nunique()\n",
    "    .groupby('Continent')['Country']\n",
    "    .count()\n",
    "    .plot(kind='bar', title='Countries per Continent', rot=45)\n",
    ");"
   ]
  },
  {
   "cell_type": "markdown",
   "id": "68ab0009",
   "metadata": {},
   "source": [
    "20. Create a seaborn boxplot showing GDP per capita in 2014 split out by continent. What do you notice?\n",
    "\n",
    "> all continents have outliers and all appear to be skewed to the right (towards higher GDP)"
   ]
  },
  {
   "cell_type": "code",
   "execution_count": 31,
   "id": "0ccd05bb",
   "metadata": {},
   "outputs": [
    {
     "data": {
      "image/png": "[encoded data removed]",
      "text/plain": [
       "<Figure size 720x432 with 1 Axes>"
      ]
     },
     "metadata": {
      "needs_background": "light"
     },
     "output_type": "display_data"
    }
   ],
   "source": [
    "# first need to add continents to gdp_2014\n",
    "# for seaborn, the \"data =\" needs to be there, can't just pass the dataframe or other object\n",
    "\n",
    "fig, ax = plt.subplots(figsize = (10,6)) # this makes the plot larger, by scaling the axis\n",
    "\n",
    "sns.boxplot(\n",
    "    data = gdp_df.loc[gdp_df['Year'] == 2014],\n",
    "    x = 'GDP_Per_Capita',\n",
    "    y = 'Continent',\n",
    "    ax=ax\n",
    ")\n",
    "plt.xticks(rotation = 45); #to rotate the x axis"
   ]
  },
  {
   "cell_type": "markdown",
   "id": "a0742d3f",
   "metadata": {},
   "source": [
    "21. Download the full csv containing Life expectancy at birth, total (years) from https://data.worldbank.org/indicator/SP.DYN.LE00.IN?name_desc=false. Read this data into a DataFrame named life_expectancy."
   ]
  },
  {
   "cell_type": "code",
   "execution_count": 32,
   "id": "615e42f4",
   "metadata": {},
   "outputs": [],
   "source": [
    "# also valid life_expectancy = pd.read_csv('../data/life_expectancy.csv', header=2)\n",
    "life_expectancy = pd.read_csv('../data/life_expectancy.csv', skiprows=4)\n"
   ]
  },
  {
   "cell_type": "markdown",
   "id": "0affeb23",
   "metadata": {},
   "source": [
    "22. Drop the Country Code, Indicator Name, and Indicator Code columns. Then use .melt() to convert your data from wide to long. That is, instead of having one row per country and multiple colums per year, we want to have multiple rows per country and a single column for year. After melting, rename the columns to Country, Year, and Life_Expectancy."
   ]
  },
  {
   "cell_type": "code",
   "execution_count": 33,
   "id": "e207f770",
   "metadata": {},
   "outputs": [],
   "source": [
    "# personal note, below an alternative to drop instead of using (label, axis=1), can use columns = label\n",
    "\n",
    "life_expectancy = (\n",
    "    life_expectancy\n",
    "    # dropping 2021 which is an empty column and another empty one\n",
    "    .drop(\n",
    "        columns =[\n",
    "            'Country Code',\n",
    "            'Indicator Name',\n",
    "            'Indicator Code',\n",
    "            '2021',\n",
    "            'Unnamed: 66'])\n",
    "    # melting on the variable \"Country Name\" (that one is the fixed)\n",
    "    .melt(\n",
    "        id_vars='Country Name',\n",
    "        var_name='Year',                #can also rename later in .rename\n",
    "        value_name='Life_Expectancy'    #can also rename later in .rename\n",
    "    )\n",
    "    # finally renaming\n",
    "    .rename(\n",
    "        columns = {'Country Name' : 'Country'})\n",
    ")"
   ]
  },
  {
   "attachments": {},
   "cell_type": "markdown",
   "id": "297505d2",
   "metadata": {},
   "source": [
    "23. What was the first country with a life expectancy to exceed 80?\n",
    "\n",
    "> It was Japan in 1996! (obviously this is thanks to Dragon Ball with its original Manga run from 1984 - 1995 ...)"
   ]
  },
  {
   "cell_type": "code",
   "execution_count": 35,
   "id": "9fa650b4",
   "metadata": {},
   "outputs": [
    {
     "data": {
      "text/html": [
       "<div>\n",
       "<style scoped>\n",
       "    .dataframe tbody tr th:only-of-type {\n",
       "        vertical-align: middle;\n",
       "    }\n",
       "\n",
       "    .dataframe tbody tr th {\n",
       "        vertical-align: top;\n",
       "    }\n",
       "\n",
       "    .dataframe thead th {\n",
       "        text-align: right;\n",
       "    }\n",
       "</style>\n",
       "<table border=\"1\" class=\"dataframe\">\n",
       "  <thead>\n",
       "    <tr style=\"text-align: right;\">\n",
       "      <th></th>\n",
       "      <th>Country</th>\n",
       "      <th>Year</th>\n",
       "      <th>Life_Expectancy</th>\n",
       "    </tr>\n",
       "  </thead>\n",
       "  <tbody>\n",
       "    <tr>\n",
       "      <th>9695</th>\n",
       "      <td>Japan</td>\n",
       "      <td>1996</td>\n",
       "      <td>80.200244</td>\n",
       "    </tr>\n",
       "    <tr>\n",
       "      <th>9938</th>\n",
       "      <td>Hong Kong SAR, China</td>\n",
       "      <td>1997</td>\n",
       "      <td>80.126829</td>\n",
       "    </tr>\n",
       "    <tr>\n",
       "      <th>9961</th>\n",
       "      <td>Japan</td>\n",
       "      <td>1997</td>\n",
       "      <td>80.424146</td>\n",
       "    </tr>\n",
       "    <tr>\n",
       "      <th>10204</th>\n",
       "      <td>Hong Kong SAR, China</td>\n",
       "      <td>1998</td>\n",
       "      <td>80.131707</td>\n",
       "    </tr>\n",
       "    <tr>\n",
       "      <th>10227</th>\n",
       "      <td>Japan</td>\n",
       "      <td>1998</td>\n",
       "      <td>80.501463</td>\n",
       "    </tr>\n",
       "    <tr>\n",
       "      <th>...</th>\n",
       "      <td>...</td>\n",
       "      <td>...</td>\n",
       "      <td>...</td>\n",
       "    </tr>\n",
       "    <tr>\n",
       "      <th>16037</th>\n",
       "      <td>France</td>\n",
       "      <td>2020</td>\n",
       "      <td>82.175610</td>\n",
       "    </tr>\n",
       "    <tr>\n",
       "      <th>16038</th>\n",
       "      <td>Faroe Islands</td>\n",
       "      <td>2020</td>\n",
       "      <td>83.092683</td>\n",
       "    </tr>\n",
       "    <tr>\n",
       "      <th>16041</th>\n",
       "      <td>United Kingdom</td>\n",
       "      <td>2020</td>\n",
       "      <td>80.902439</td>\n",
       "    </tr>\n",
       "    <tr>\n",
       "      <th>16053</th>\n",
       "      <td>Guam</td>\n",
       "      <td>2020</td>\n",
       "      <td>80.277000</td>\n",
       "    </tr>\n",
       "    <tr>\n",
       "      <th>16183</th>\n",
       "      <td>Sweden</td>\n",
       "      <td>2020</td>\n",
       "      <td>82.407317</td>\n",
       "    </tr>\n",
       "  </tbody>\n",
       "</table>\n",
       "<p>562 rows × 3 columns</p>\n",
       "</div>"
      ],
      "text/plain": [
       "                    Country  Year  Life_Expectancy\n",
       "9695                  Japan  1996        80.200244\n",
       "9938   Hong Kong SAR, China  1997        80.126829\n",
       "9961                  Japan  1997        80.424146\n",
       "10204  Hong Kong SAR, China  1998        80.131707\n",
       "10227                 Japan  1998        80.501463\n",
       "...                     ...   ...              ...\n",
       "16037                France  2020        82.175610\n",
       "16038         Faroe Islands  2020        83.092683\n",
       "16041        United Kingdom  2020        80.902439\n",
       "16053                  Guam  2020        80.277000\n",
       "16183                Sweden  2020        82.407317\n",
       "\n",
       "[562 rows x 3 columns]"
      ]
     },
     "execution_count": 35,
     "metadata": {},
     "output_type": "execute_result"
    }
   ],
   "source": [
    "(\n",
    "    life_expectancy\n",
    "    .loc[life_expectancy['Life_Expectancy'] >= 80]\n",
    "    .sort_values('Year')\n",
    ")"
   ]
  },
  {
   "cell_type": "markdown",
   "id": "e2b936f7",
   "metadata": {},
   "source": [
    "24. Merge gdp_per_capita and life_expectancy, keeping all countries and years that appear in both DataFrames. Save the result to a new DataFrame named gdp_le. If you get any errors in doing this, read them carefully and correct them. Look at the first five rows of your new data frame to confirm it merged correctly. Also, check the last five rows to make sure the data is clean and as expected.\n",
    "\n",
    "> when merging on Year I found out that gdp_df Year is int64 type, the life_expectancy is str. Conversion below, before merging"
   ]
  },
  {
   "cell_type": "code",
   "execution_count": 36,
   "id": "ebafd443",
   "metadata": {},
   "outputs": [],
   "source": [
    "life_expectancy['Year'] = life_expectancy['Year'].astype(int)\n",
    "gdp_le = pd.merge(gdp_df, life_expectancy, \"inner\", on=['Country', 'Year'])"
   ]
  },
  {
   "cell_type": "code",
   "execution_count": 37,
   "id": "d307c97c",
   "metadata": {},
   "outputs": [
    {
     "data": {
      "text/html": [
       "<div>\n",
       "<style scoped>\n",
       "    .dataframe tbody tr th:only-of-type {\n",
       "        vertical-align: middle;\n",
       "    }\n",
       "\n",
       "    .dataframe tbody tr th {\n",
       "        vertical-align: top;\n",
       "    }\n",
       "\n",
       "    .dataframe thead th {\n",
       "        text-align: right;\n",
       "    }\n",
       "</style>\n",
       "<table border=\"1\" class=\"dataframe\">\n",
       "  <thead>\n",
       "    <tr style=\"text-align: right;\">\n",
       "      <th></th>\n",
       "      <th>Country</th>\n",
       "      <th>Year</th>\n",
       "      <th>GDP_Per_Capita</th>\n",
       "      <th>Continent</th>\n",
       "      <th>Life_Expectancy</th>\n",
       "    </tr>\n",
       "  </thead>\n",
       "  <tbody>\n",
       "    <tr>\n",
       "      <th>0</th>\n",
       "      <td>Afghanistan</td>\n",
       "      <td>2019</td>\n",
       "      <td>2065.036398</td>\n",
       "      <td>Asia</td>\n",
       "      <td>64.833</td>\n",
       "    </tr>\n",
       "    <tr>\n",
       "      <th>1</th>\n",
       "      <td>Afghanistan</td>\n",
       "      <td>2018</td>\n",
       "      <td>2033.779002</td>\n",
       "      <td>Asia</td>\n",
       "      <td>64.486</td>\n",
       "    </tr>\n",
       "    <tr>\n",
       "      <th>2</th>\n",
       "      <td>Afghanistan</td>\n",
       "      <td>2017</td>\n",
       "      <td>2058.383832</td>\n",
       "      <td>Asia</td>\n",
       "      <td>64.130</td>\n",
       "    </tr>\n",
       "    <tr>\n",
       "      <th>3</th>\n",
       "      <td>Afghanistan</td>\n",
       "      <td>2016</td>\n",
       "      <td>2057.062164</td>\n",
       "      <td>Asia</td>\n",
       "      <td>63.763</td>\n",
       "    </tr>\n",
       "    <tr>\n",
       "      <th>4</th>\n",
       "      <td>Afghanistan</td>\n",
       "      <td>2015</td>\n",
       "      <td>2068.265904</td>\n",
       "      <td>Asia</td>\n",
       "      <td>63.377</td>\n",
       "    </tr>\n",
       "  </tbody>\n",
       "</table>\n",
       "</div>"
      ],
      "text/plain": [
       "       Country  Year  GDP_Per_Capita Continent  Life_Expectancy\n",
       "0  Afghanistan  2019     2065.036398      Asia           64.833\n",
       "1  Afghanistan  2018     2033.779002      Asia           64.486\n",
       "2  Afghanistan  2017     2058.383832      Asia           64.130\n",
       "3  Afghanistan  2016     2057.062164      Asia           63.763\n",
       "4  Afghanistan  2015     2068.265904      Asia           63.377"
      ]
     },
     "execution_count": 37,
     "metadata": {},
     "output_type": "execute_result"
    }
   ],
   "source": [
    "gdp_le.head()"
   ]
  },
  {
   "cell_type": "code",
   "execution_count": 38,
   "id": "832de630",
   "metadata": {},
   "outputs": [
    {
     "data": {
      "text/html": [
       "<div>\n",
       "<style scoped>\n",
       "    .dataframe tbody tr th:only-of-type {\n",
       "        vertical-align: middle;\n",
       "    }\n",
       "\n",
       "    .dataframe tbody tr th {\n",
       "        vertical-align: top;\n",
       "    }\n",
       "\n",
       "    .dataframe thead th {\n",
       "        text-align: right;\n",
       "    }\n",
       "</style>\n",
       "<table border=\"1\" class=\"dataframe\">\n",
       "  <thead>\n",
       "    <tr style=\"text-align: right;\">\n",
       "      <th></th>\n",
       "      <th>Country</th>\n",
       "      <th>Year</th>\n",
       "      <th>GDP_Per_Capita</th>\n",
       "      <th>Continent</th>\n",
       "      <th>Life_Expectancy</th>\n",
       "    </tr>\n",
       "  </thead>\n",
       "  <tbody>\n",
       "    <tr>\n",
       "      <th>5109</th>\n",
       "      <td>Zimbabwe</td>\n",
       "      <td>1994</td>\n",
       "      <td>3263.934978</td>\n",
       "      <td>Africa</td>\n",
       "      <td>52.044</td>\n",
       "    </tr>\n",
       "    <tr>\n",
       "      <th>5110</th>\n",
       "      <td>Zimbabwe</td>\n",
       "      <td>1993</td>\n",
       "      <td>3033.504852</td>\n",
       "      <td>Africa</td>\n",
       "      <td>53.653</td>\n",
       "    </tr>\n",
       "    <tr>\n",
       "      <th>5111</th>\n",
       "      <td>Zimbabwe</td>\n",
       "      <td>1992</td>\n",
       "      <td>3054.889178</td>\n",
       "      <td>Africa</td>\n",
       "      <td>55.243</td>\n",
       "    </tr>\n",
       "    <tr>\n",
       "      <th>5112</th>\n",
       "      <td>Zimbabwe</td>\n",
       "      <td>1991</td>\n",
       "      <td>3426.598094</td>\n",
       "      <td>Africa</td>\n",
       "      <td>56.749</td>\n",
       "    </tr>\n",
       "    <tr>\n",
       "      <th>5113</th>\n",
       "      <td>Zimbabwe</td>\n",
       "      <td>1990</td>\n",
       "      <td>3324.348171</td>\n",
       "      <td>Africa</td>\n",
       "      <td>58.100</td>\n",
       "    </tr>\n",
       "  </tbody>\n",
       "</table>\n",
       "</div>"
      ],
      "text/plain": [
       "       Country  Year  GDP_Per_Capita Continent  Life_Expectancy\n",
       "5109  Zimbabwe  1994     3263.934978    Africa           52.044\n",
       "5110  Zimbabwe  1993     3033.504852    Africa           53.653\n",
       "5111  Zimbabwe  1992     3054.889178    Africa           55.243\n",
       "5112  Zimbabwe  1991     3426.598094    Africa           56.749\n",
       "5113  Zimbabwe  1990     3324.348171    Africa           58.100"
      ]
     },
     "execution_count": 38,
     "metadata": {},
     "output_type": "execute_result"
    }
   ],
   "source": [
    "gdp_le.tail()"
   ]
  },
  {
   "cell_type": "markdown",
   "id": "467ddc3a",
   "metadata": {},
   "source": [
    "25. Create a new DataFrame, named gdp_le_2019 by extracting data for the year 2019 from gdp_le. How many countries have a life expectancy of at least 80 in 2019?\n",
    "\n",
    "> 33 countries in 2019 have a life expectancy of 80 years or older"
   ]
  },
  {
   "cell_type": "code",
   "execution_count": 39,
   "id": "1bfd0a17",
   "metadata": {},
   "outputs": [],
   "source": [
    "gdp_le_2019 = gdp_le.loc[gdp_le['Year'] == 2019]"
   ]
  },
  {
   "cell_type": "code",
   "execution_count": 40,
   "id": "3fc7feb2",
   "metadata": {},
   "outputs": [
    {
     "name": "stdout",
     "output_type": "stream",
     "text": [
      "<class 'pandas.core.frame.DataFrame'>\n",
      "Int64Index: 33 entries, 226 to 4848\n",
      "Data columns (total 5 columns):\n",
      " #   Column           Non-Null Count  Dtype  \n",
      "---  ------           --------------  -----  \n",
      " 0   Country          33 non-null     object \n",
      " 1   Year             33 non-null     int64  \n",
      " 2   GDP_Per_Capita   33 non-null     float64\n",
      " 3   Continent        33 non-null     object \n",
      " 4   Life_Expectancy  33 non-null     float64\n",
      "dtypes: float64(2), int64(1), object(2)\n",
      "memory usage: 1.5+ KB\n"
     ]
    }
   ],
   "source": [
    "gdp_le_2019.loc[gdp_le_2019['Life_Expectancy'] >= 80].info() # or .sum()"
   ]
  },
  {
   "cell_type": "markdown",
   "id": "5e632a83",
   "metadata": {},
   "source": [
    "26. Find the countries that had the top 3 largest GDP per capita figures for 2019. Create a seaborn FacetGrid showing the change in life expectancy over time for these three countries. Each individual figure in the facet grid will represent a single country.\n",
    "\n",
    "> Macao SAR, China, Luxembourg, Singapore"
   ]
  },
  {
   "cell_type": "code",
   "execution_count": 41,
   "id": "ea8b3a2f",
   "metadata": {},
   "outputs": [],
   "source": [
    "#gdp_le_2019.sort_values('GDP_Per_Capita', ascending = False).head(3)\n",
    "top3_gdp = gdp_le_2019.nlargest(3, 'GDP_Per_Capita')['Country'].to_list()"
   ]
  },
  {
   "cell_type": "code",
   "execution_count": 42,
   "id": "09ae9ef7",
   "metadata": {},
   "outputs": [
    {
     "data": {
      "image/png": "[encoded data removed]",
      "text/plain": [
       "<Figure size 648x216 with 3 Axes>"
      ]
     },
     "metadata": {
      "needs_background": "light"
     },
     "output_type": "display_data"
    }
   ],
   "source": [
    "# so FacetGrid sets up how many canvases are needed based on categorical variables\n",
    "# in my example, I want them in 3 columns (for 3 countries)\n",
    "# then, we actually need to draw on the plots what we want, by mapping\n",
    "g = sns.FacetGrid(\n",
    "    gdp_le.loc[gdp_le['Country'].isin(top3_gdp)],\n",
    "    col='Country'\n",
    ")\n",
    "g.map(sns.scatterplot, 'Year', 'Life_Expectancy');\n",
    "\n",
    "# could also use this:\n",
    "# g.map(plt.plot, 'Year', 'Life_Expectancy');"
   ]
  },
  {
   "cell_type": "markdown",
   "id": "df985a64",
   "metadata": {},
   "source": [
    "27. Create a scatter plot of Life Expectancy vs GDP per Capita for the year 2019. What do you notice?\n",
    "\n",
    "> higher GDP per capita seems to indicate longer life expectancy"
   ]
  },
  {
   "cell_type": "code",
   "execution_count": 43,
   "id": "25099b84",
   "metadata": {},
   "outputs": [
    {
     "data": {
      "image/png": "[encoded data removed]",
      "text/plain": [
       "<Figure size 432x288 with 1 Axes>"
      ]
     },
     "metadata": {
      "needs_background": "light"
     },
     "output_type": "display_data"
    }
   ],
   "source": [
    "gdp_le_2019.plot(kind='scatter', x='GDP_Per_Capita', y='Life_Expectancy');"
   ]
  },
  {
   "cell_type": "code",
   "execution_count": 46,
   "id": "d917792a",
   "metadata": {},
   "outputs": [
    {
     "data": {
      "image/png": "[encoded data removed]",
      "text/plain": [
       "<Figure size 864x576 with 1 Axes>"
      ]
     },
     "metadata": {
      "needs_background": "light"
     },
     "output_type": "display_data"
    }
   ],
   "source": [
    "# one of my classmates prettifyed the graph here (I was content with the plain one above and moved on);\n",
    "plt.figure(figsize = (12,8))\n",
    "sns.scatterplot(data = gdp_le_2019, x = 'GDP_Per_Capita', y = 'Life_Expectancy',\n",
    "                hue = 'Continent', palette = 'Reds', edgecolor = 'black')\n",
    "plt.title('Life expectancy vs. GDP_Per_Capita, 2019')\n",
    "plt.grid(True)\n",
    "plt.legend(bbox_to_anchor =(1.0, 1.0));"
   ]
  },
  {
   "cell_type": "markdown",
   "id": "262b0a59",
   "metadata": {},
   "source": [
    "28. Find the correlation between Life Expectancy and GDP per Capita for the year 2019. What is the meaning of this number?\n",
    "\n",
    "> the number 0.71 seems to be indicating a pretty strong correlation (more GDP typically means more life expectancy); however, looking at the graph the relationship doesn't appear linear;"
   ]
  },
  {
   "cell_type": "code",
   "execution_count": 47,
   "id": "30a485fa",
   "metadata": {},
   "outputs": [
    {
     "data": {
      "text/html": [
       "<div>\n",
       "<style scoped>\n",
       "    .dataframe tbody tr th:only-of-type {\n",
       "        vertical-align: middle;\n",
       "    }\n",
       "\n",
       "    .dataframe tbody tr th {\n",
       "        vertical-align: top;\n",
       "    }\n",
       "\n",
       "    .dataframe thead th {\n",
       "        text-align: right;\n",
       "    }\n",
       "</style>\n",
       "<table border=\"1\" class=\"dataframe\">\n",
       "  <thead>\n",
       "    <tr style=\"text-align: right;\">\n",
       "      <th></th>\n",
       "      <th>GDP_Per_Capita</th>\n",
       "      <th>Life_Expectancy</th>\n",
       "    </tr>\n",
       "  </thead>\n",
       "  <tbody>\n",
       "    <tr>\n",
       "      <th>GDP_Per_Capita</th>\n",
       "      <td>1.000000</td>\n",
       "      <td>0.709018</td>\n",
       "    </tr>\n",
       "    <tr>\n",
       "      <th>Life_Expectancy</th>\n",
       "      <td>0.709018</td>\n",
       "      <td>1.000000</td>\n",
       "    </tr>\n",
       "  </tbody>\n",
       "</table>\n",
       "</div>"
      ],
      "text/plain": [
       "                 GDP_Per_Capita  Life_Expectancy\n",
       "GDP_Per_Capita         1.000000         0.709018\n",
       "Life_Expectancy        0.709018         1.000000"
      ]
     },
     "execution_count": 47,
     "metadata": {},
     "output_type": "execute_result"
    }
   ],
   "source": [
    "#gdp_le_2019.corr()\n",
    "#more explicitly than above:\n",
    "gdp_le_2019[['GDP_Per_Capita', 'Life_Expectancy']].corr() "
   ]
  },
  {
   "cell_type": "markdown",
   "id": "baa27c68",
   "metadata": {},
   "source": [
    "29. Add a column to gdp_le_2019 and calculate the logarithm of GDP per capita. Find the correlation between the log of GDP per capita and life expectancy. How does this compare to the calculation in the previous part? Look at a scatter plot to see if the result of this calculation makes sense.\n",
    "\n",
    "> the correlation seems to be stronger (0.85 as opposed to 0.71). I was kind of expecting this, as looking at the scatterplot above I thought it might look like a log. So after converting the x values (gdp) to a log scale, the linear relationship between the two is strong."
   ]
  },
  {
   "cell_type": "code",
   "execution_count": 48,
   "id": "a3aa6b28",
   "metadata": {},
   "outputs": [
    {
     "name": "stderr",
     "output_type": "stream",
     "text": [
      "/var/folders/3t/x8rz35tn765cm0bkf_n4ydlh0000gn/T/ipykernel_77773/1628252309.py:1: SettingWithCopyWarning: \n",
      "A value is trying to be set on a copy of a slice from a DataFrame.\n",
      "Try using .loc[row_indexer,col_indexer] = value instead\n",
      "\n",
      "See the caveats in the documentation: https://pandas.pydata.org/pandas-docs/stable/user_guide/indexing.html#returning-a-view-versus-a-copy\n",
      "  gdp_le_2019['log_GDP'] = np.log(gdp_le_2019['GDP_Per_Capita'])\n"
     ]
    }
   ],
   "source": [
    "gdp_le_2019['log_GDP'] = np.log(gdp_le_2019['GDP_Per_Capita'])"
   ]
  },
  {
   "cell_type": "code",
   "execution_count": 49,
   "id": "297c5329",
   "metadata": {},
   "outputs": [
    {
     "data": {
      "text/html": [
       "<div>\n",
       "<style scoped>\n",
       "    .dataframe tbody tr th:only-of-type {\n",
       "        vertical-align: middle;\n",
       "    }\n",
       "\n",
       "    .dataframe tbody tr th {\n",
       "        vertical-align: top;\n",
       "    }\n",
       "\n",
       "    .dataframe thead th {\n",
       "        text-align: right;\n",
       "    }\n",
       "</style>\n",
       "<table border=\"1\" class=\"dataframe\">\n",
       "  <thead>\n",
       "    <tr style=\"text-align: right;\">\n",
       "      <th></th>\n",
       "      <th>Year</th>\n",
       "      <th>GDP_Per_Capita</th>\n",
       "      <th>Life_Expectancy</th>\n",
       "      <th>log_GDP</th>\n",
       "    </tr>\n",
       "  </thead>\n",
       "  <tbody>\n",
       "    <tr>\n",
       "      <th>Year</th>\n",
       "      <td>NaN</td>\n",
       "      <td>NaN</td>\n",
       "      <td>NaN</td>\n",
       "      <td>NaN</td>\n",
       "    </tr>\n",
       "    <tr>\n",
       "      <th>GDP_Per_Capita</th>\n",
       "      <td>NaN</td>\n",
       "      <td>1.000000</td>\n",
       "      <td>0.709018</td>\n",
       "      <td>0.850396</td>\n",
       "    </tr>\n",
       "    <tr>\n",
       "      <th>Life_Expectancy</th>\n",
       "      <td>NaN</td>\n",
       "      <td>0.709018</td>\n",
       "      <td>1.000000</td>\n",
       "      <td>0.848498</td>\n",
       "    </tr>\n",
       "    <tr>\n",
       "      <th>log_GDP</th>\n",
       "      <td>NaN</td>\n",
       "      <td>0.850396</td>\n",
       "      <td>0.848498</td>\n",
       "      <td>1.000000</td>\n",
       "    </tr>\n",
       "  </tbody>\n",
       "</table>\n",
       "</div>"
      ],
      "text/plain": [
       "                 Year  GDP_Per_Capita  Life_Expectancy   log_GDP\n",
       "Year              NaN             NaN              NaN       NaN\n",
       "GDP_Per_Capita    NaN        1.000000         0.709018  0.850396\n",
       "Life_Expectancy   NaN        0.709018         1.000000  0.848498\n",
       "log_GDP           NaN        0.850396         0.848498  1.000000"
      ]
     },
     "execution_count": 49,
     "metadata": {},
     "output_type": "execute_result"
    }
   ],
   "source": [
    "gdp_le_2019.corr()"
   ]
  },
  {
   "cell_type": "markdown",
   "id": "1a15fb27",
   "metadata": {},
   "source": [
    "stronger correlation than before!"
   ]
  },
  {
   "cell_type": "code",
   "execution_count": 50,
   "id": "9d6f33e7",
   "metadata": {},
   "outputs": [
    {
     "data": {
      "image/png": "[encoded data removed]",
      "text/plain": [
       "<Figure size 432x288 with 1 Axes>"
      ]
     },
     "metadata": {
      "needs_background": "light"
     },
     "output_type": "display_data"
    }
   ],
   "source": [
    "gdp_le_2019.plot(kind='scatter', x='log_GDP', y='Life_Expectancy');"
   ]
  }
 ],
 "metadata": {
  "kernelspec": {
   "display_name": "Python 3 (ipykernel)",
   "language": "python",
   "name": "python3"
  },
  "language_info": {
   "codemirror_mode": {
    "name": "ipython",
    "version": 3
   },
   "file_extension": ".py",
   "mimetype": "text/x-python",
   "name": "python",
   "nbconvert_exporter": "python",
   "pygments_lexer": "ipython3",
   "version": "3.9.12"
  },
  "vscode": {
   "interpreter": {
    "hash": "8ae6d9166a6324ec8fca68373a3fb6f0a0d010f541edaf8017d36667030d4460"
   }
  }
 },
 "nbformat": 4,
 "nbformat_minor": 5
}
